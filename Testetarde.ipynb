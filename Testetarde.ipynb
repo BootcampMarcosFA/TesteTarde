{
  "nbformat": 4,
  "nbformat_minor": 0,
  "metadata": {
    "colab": {
      "provenance": [],
      "include_colab_link": true
    },
    "kernelspec": {
      "name": "python3",
      "display_name": "Python 3"
    },
    "language_info": {
      "name": "python"
    }
  },
  "cells": [
    {
      "cell_type": "markdown",
      "metadata": {
        "id": "view-in-github",
        "colab_type": "text"
      },
      "source": [
        "<a href=\"https://colab.research.google.com/github/BootcampMarcosFA/TesteTarde/blob/main/Testetarde.ipynb\" target=\"_parent\"><img src=\"https://colab.research.google.com/assets/colab-badge.svg\" alt=\"Open In Colab\"/></a>"
      ]
    },
    {
      "cell_type": "code",
      "execution_count": null,
      "metadata": {
        "id": "9O93vN1NFYag",
        "outputId": "a87d83b7-f719-40af-8825-cf5f9d31b109",
        "colab": {
          "base_uri": "https://localhost:8080/"
        }
      },
      "outputs": [
        {
          "output_type": "stream",
          "name": "stdout",
          "text": [
            "olá pessoal da tarde\n"
          ]
        }
      ],
      "source": [
        "print('olá pessoal da tarde')"
      ]
    },
    {
      "cell_type": "code",
      "source": [
        "print(\"Grupo 2 esteve aqui\")"
      ],
      "metadata": {
        "id": "thYY7u7wI6Hd",
        "outputId": "c5906516-4d3e-4d6f-e9ff-9ce3e4caafc0",
        "colab": {
          "base_uri": "https://localhost:8080/"
        }
      },
      "execution_count": null,
      "outputs": [
        {
          "output_type": "stream",
          "name": "stdout",
          "text": [
            "Grupo 2 esteve aqui\n"
          ]
        }
      ]
    },
    {
      "cell_type": "code",
      "source": [],
      "metadata": {
        "id": "NJlwgPCLI9az"
      },
      "execution_count": null,
      "outputs": []
    }
  ]
}